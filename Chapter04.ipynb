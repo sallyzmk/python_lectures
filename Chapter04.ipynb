{
 "cells": [
  {
   "cell_type": "markdown",
   "metadata": {
    "id": "N3KiJpI1gDaV"
   },
   "source": [
    "---\n",
    "# title: \"혼공머 Chapter 04\"\n",
    "date: '2022-07-01 01:00'\n",
    "---"
   ]
  },
  {
   "cell_type": "markdown",
   "metadata": {
    "id": "N1YvZYENgLy8"
   },
   "source": [
    "# Chapter 04-1 로지스틱 회귀\n",
    "- 선형 회귀에서 출발\n",
    "- 이진 분류 문제 해결\n",
    "- 클래스 확률 예측\n",
    "- 딥러닝에서도 사용됨"
   ]
  },
  {
   "cell_type": "markdown",
   "metadata": {
    "id": "X8ES4uhxghXM"
   },
   "source": [
    "- 교재 177p\n",
    "- X가 사각형일 확률 30%\n",
    "- X가 삼각형일 확률 50%\n",
    "- X가 원일 확률 20%"
   ]
  },
  {
   "cell_type": "markdown",
   "metadata": {
    "id": "6XJUcmoRtisW"
   },
   "source": [
    "## 전체 과정 정리\n",
    "- 1. 좋은 데이터\n",
    "- 2. 어떤 데이터인지 탐색하고\n",
    "- 3. 데이터 가공\n",
    "  + 2차원 리스트로 만들기\n",
    "  + 라벨링하기\n",
    "- 4. 데이터 분리(훈련 세트, 테스트 세트)(train_test_split 함수)\n",
    "    + 4.1. 무작위로 섞되(scikit-learn), 무작위 숫자 고정시켜야 되고(random_state), 전체 비율과 맞게 섞기(층화 샘플링)\n",
    "- 5. 표준화 전처리\n",
    "  + 5.1. 단위 맞춰추기 (Feature Engineering, 표준편차 활용, StandardScaler)\n",
    "  + https://velog.io/@chaliechu117/Feature-Engineering\n",
    "  + 5.2. 훈련 세트 데이터의 표준화 구하는 학습을 시킨다. (ss.fit)\n",
    "    + ex) 평균을 구함\n",
    "  + 5.3. 훈련 세트와 테스트 세트를 표준화 전처리 함. (ss.transform)\n",
    "    + ex) 평균을 적용하여 전처리 함"
   ]
  },
  {
   "cell_type": "code",
   "execution_count": null,
   "metadata": {
    "id": "jdFxiASKfzmE"
   },
   "outputs": [],
   "source": [
    "# 패키지 설치\n",
    "import pandas as pd"
   ]
  },
  {
   "cell_type": "markdown",
   "metadata": {
    "id": "Oj_otPVRg3yz"
   },
   "source": [
    "## 데이터 불러오기\n",
    "- 종분류\n",
    "- 종속변수(=Y): Species \n",
    "- 독립변수: Weight, Length, Diagonal, Heightm Width\n",
    "- 독립변수 여러개, 종속 변수 1개"
   ]
  },
  {
   "cell_type": "code",
   "execution_count": null,
   "metadata": {
    "colab": {
     "base_uri": "https://localhost:8080/",
     "height": 206
    },
    "id": "yc4QKhbcg5dq",
    "outputId": "88e0623a-6657-4901-cc19-0bec20be3e23"
   },
   "outputs": [
    {
     "data": {
      "text/html": [
       "\n",
       "  <div id=\"df-e4f4e509-abb7-4725-8c24-8b8b6ab9fc15\">\n",
       "    <div class=\"colab-df-container\">\n",
       "      <div>\n",
       "<style scoped>\n",
       "    .dataframe tbody tr th:only-of-type {\n",
       "        vertical-align: middle;\n",
       "    }\n",
       "\n",
       "    .dataframe tbody tr th {\n",
       "        vertical-align: top;\n",
       "    }\n",
       "\n",
       "    .dataframe thead th {\n",
       "        text-align: right;\n",
       "    }\n",
       "</style>\n",
       "<table border=\"1\" class=\"dataframe\">\n",
       "  <thead>\n",
       "    <tr style=\"text-align: right;\">\n",
       "      <th></th>\n",
       "      <th>Species</th>\n",
       "      <th>Weight</th>\n",
       "      <th>Length</th>\n",
       "      <th>Diagonal</th>\n",
       "      <th>Height</th>\n",
       "      <th>Width</th>\n",
       "    </tr>\n",
       "  </thead>\n",
       "  <tbody>\n",
       "    <tr>\n",
       "      <th>0</th>\n",
       "      <td>Bream</td>\n",
       "      <td>242.0</td>\n",
       "      <td>25.4</td>\n",
       "      <td>30.0</td>\n",
       "      <td>11.5200</td>\n",
       "      <td>4.0200</td>\n",
       "    </tr>\n",
       "    <tr>\n",
       "      <th>1</th>\n",
       "      <td>Bream</td>\n",
       "      <td>290.0</td>\n",
       "      <td>26.3</td>\n",
       "      <td>31.2</td>\n",
       "      <td>12.4800</td>\n",
       "      <td>4.3056</td>\n",
       "    </tr>\n",
       "    <tr>\n",
       "      <th>2</th>\n",
       "      <td>Bream</td>\n",
       "      <td>340.0</td>\n",
       "      <td>26.5</td>\n",
       "      <td>31.1</td>\n",
       "      <td>12.3778</td>\n",
       "      <td>4.6961</td>\n",
       "    </tr>\n",
       "    <tr>\n",
       "      <th>3</th>\n",
       "      <td>Bream</td>\n",
       "      <td>363.0</td>\n",
       "      <td>29.0</td>\n",
       "      <td>33.5</td>\n",
       "      <td>12.7300</td>\n",
       "      <td>4.4555</td>\n",
       "    </tr>\n",
       "    <tr>\n",
       "      <th>4</th>\n",
       "      <td>Bream</td>\n",
       "      <td>430.0</td>\n",
       "      <td>29.0</td>\n",
       "      <td>34.0</td>\n",
       "      <td>12.4440</td>\n",
       "      <td>5.1340</td>\n",
       "    </tr>\n",
       "  </tbody>\n",
       "</table>\n",
       "</div>\n",
       "      <button class=\"colab-df-convert\" onclick=\"convertToInteractive('df-e4f4e509-abb7-4725-8c24-8b8b6ab9fc15')\"\n",
       "              title=\"Convert this dataframe to an interactive table.\"\n",
       "              style=\"display:none;\">\n",
       "        \n",
       "  <svg xmlns=\"http://www.w3.org/2000/svg\" height=\"24px\"viewBox=\"0 0 24 24\"\n",
       "       width=\"24px\">\n",
       "    <path d=\"M0 0h24v24H0V0z\" fill=\"none\"/>\n",
       "    <path d=\"M18.56 5.44l.94 2.06.94-2.06 2.06-.94-2.06-.94-.94-2.06-.94 2.06-2.06.94zm-11 1L8.5 8.5l.94-2.06 2.06-.94-2.06-.94L8.5 2.5l-.94 2.06-2.06.94zm10 10l.94 2.06.94-2.06 2.06-.94-2.06-.94-.94-2.06-.94 2.06-2.06.94z\"/><path d=\"M17.41 7.96l-1.37-1.37c-.4-.4-.92-.59-1.43-.59-.52 0-1.04.2-1.43.59L10.3 9.45l-7.72 7.72c-.78.78-.78 2.05 0 2.83L4 21.41c.39.39.9.59 1.41.59.51 0 1.02-.2 1.41-.59l7.78-7.78 2.81-2.81c.8-.78.8-2.07 0-2.86zM5.41 20L4 18.59l7.72-7.72 1.47 1.35L5.41 20z\"/>\n",
       "  </svg>\n",
       "      </button>\n",
       "      \n",
       "  <style>\n",
       "    .colab-df-container {\n",
       "      display:flex;\n",
       "      flex-wrap:wrap;\n",
       "      gap: 12px;\n",
       "    }\n",
       "\n",
       "    .colab-df-convert {\n",
       "      background-color: #E8F0FE;\n",
       "      border: none;\n",
       "      border-radius: 50%;\n",
       "      cursor: pointer;\n",
       "      display: none;\n",
       "      fill: #1967D2;\n",
       "      height: 32px;\n",
       "      padding: 0 0 0 0;\n",
       "      width: 32px;\n",
       "    }\n",
       "\n",
       "    .colab-df-convert:hover {\n",
       "      background-color: #E2EBFA;\n",
       "      box-shadow: 0px 1px 2px rgba(60, 64, 67, 0.3), 0px 1px 3px 1px rgba(60, 64, 67, 0.15);\n",
       "      fill: #174EA6;\n",
       "    }\n",
       "\n",
       "    [theme=dark] .colab-df-convert {\n",
       "      background-color: #3B4455;\n",
       "      fill: #D2E3FC;\n",
       "    }\n",
       "\n",
       "    [theme=dark] .colab-df-convert:hover {\n",
       "      background-color: #434B5C;\n",
       "      box-shadow: 0px 1px 3px 1px rgba(0, 0, 0, 0.15);\n",
       "      filter: drop-shadow(0px 1px 2px rgba(0, 0, 0, 0.3));\n",
       "      fill: #FFFFFF;\n",
       "    }\n",
       "  </style>\n",
       "\n",
       "      <script>\n",
       "        const buttonEl =\n",
       "          document.querySelector('#df-e4f4e509-abb7-4725-8c24-8b8b6ab9fc15 button.colab-df-convert');\n",
       "        buttonEl.style.display =\n",
       "          google.colab.kernel.accessAllowed ? 'block' : 'none';\n",
       "\n",
       "        async function convertToInteractive(key) {\n",
       "          const element = document.querySelector('#df-e4f4e509-abb7-4725-8c24-8b8b6ab9fc15');\n",
       "          const dataTable =\n",
       "            await google.colab.kernel.invokeFunction('convertToInteractive',\n",
       "                                                     [key], {});\n",
       "          if (!dataTable) return;\n",
       "\n",
       "          const docLinkHtml = 'Like what you see? Visit the ' +\n",
       "            '<a target=\"_blank\" href=https://colab.research.google.com/notebooks/data_table.ipynb>data table notebook</a>'\n",
       "            + ' to learn more about interactive tables.';\n",
       "          element.innerHTML = '';\n",
       "          dataTable['output_type'] = 'display_data';\n",
       "          await google.colab.output.renderOutput(dataTable, element);\n",
       "          const docLink = document.createElement('div');\n",
       "          docLink.innerHTML = docLinkHtml;\n",
       "          element.appendChild(docLink);\n",
       "        }\n",
       "      </script>\n",
       "    </div>\n",
       "  </div>\n",
       "  "
      ],
      "text/plain": [
       "  Species  Weight  Length  Diagonal   Height   Width\n",
       "0   Bream   242.0    25.4      30.0  11.5200  4.0200\n",
       "1   Bream   290.0    26.3      31.2  12.4800  4.3056\n",
       "2   Bream   340.0    26.5      31.1  12.3778  4.6961\n",
       "3   Bream   363.0    29.0      33.5  12.7300  4.4555\n",
       "4   Bream   430.0    29.0      34.0  12.4440  5.1340"
      ]
     },
     "execution_count": 2,
     "metadata": {},
     "output_type": "execute_result"
    }
   ],
   "source": [
    "fish = pd.read_csv('https://bit.ly/fish_csv_data')\n",
    "fish.head()"
   ]
  },
  {
   "cell_type": "markdown",
   "metadata": {
    "id": "HyDJ3KImhYUU"
   },
   "source": [
    "## 데이터 탐색\n",
    "- 종속 변수부터 확인해야 한다.\n",
    "- 범위기 때문에 여러 방법을 사용할 수 있다\n",
    "- 데이터에 대한 배경지식을 채울 수 있다."
   ]
  },
  {
   "cell_type": "code",
   "execution_count": null,
   "metadata": {
    "colab": {
     "base_uri": "https://localhost:8080/"
    },
    "id": "xxqFJi_thf7z",
    "outputId": "5fb86e18-df11-47b1-c047-0cdb165b400e"
   },
   "outputs": [
    {
     "name": "stdout",
     "output_type": "stream",
     "text": [
      "['Bream' 'Roach' 'Whitefish' 'Parkki' 'Perch' 'Pike' 'Smelt']\n",
      "Perch        56\n",
      "Bream        35\n",
      "Roach        20\n",
      "Pike         17\n",
      "Smelt        14\n",
      "Parkki       11\n",
      "Whitefish     6\n",
      "Name: Species, dtype: int64\n"
     ]
    }
   ],
   "source": [
    "# 종속 변수\n",
    "print(pd.unique(fish['Species']))\n",
    "print(fish['Species'].value_counts())\n",
    "# 검색해보고 배경 지식 채우기"
   ]
  },
  {
   "cell_type": "markdown",
   "metadata": {
    "id": "mvas-xwAiSiD"
   },
   "source": [
    "## 데이터 가공\n",
    "- 2차원 배열로 전환\n",
    "- 라벨링 (타겟)"
   ]
  },
  {
   "cell_type": "markdown",
   "metadata": {
    "id": "21I62_aP2DK-"
   },
   "source": [
    "- 독립변수"
   ]
  },
  {
   "cell_type": "code",
   "execution_count": null,
   "metadata": {
    "colab": {
     "base_uri": "https://localhost:8080/"
    },
    "id": "mwUT_vlNiB8j",
    "outputId": "d28298bc-a289-4a6a-aed8-f9d937e1375f"
   },
   "outputs": [
    {
     "data": {
      "text/plain": [
       "(159, 5)"
      ]
     },
     "execution_count": 4,
     "metadata": {},
     "output_type": "execute_result"
    }
   ],
   "source": [
    "# pandas 데이터 프레임에서 numpy 배열로 변환\n",
    "fish_input = fish[['Weight', 'Length', 'Diagonal', 'Height', 'Width']].to_numpy()\n",
    "fish_input.shape\n",
    "# 2차원 배열이고 159행, 2열"
   ]
  },
  {
   "cell_type": "code",
   "execution_count": null,
   "metadata": {
    "colab": {
     "base_uri": "https://localhost:8080/"
    },
    "id": "zWYwEZD0ivTU",
    "outputId": "c8d5e4c6-da20-4296-8925-8ba7acdbf281"
   },
   "outputs": [
    {
     "name": "stdout",
     "output_type": "stream",
     "text": [
      "[[242.      25.4     30.      11.52     4.02  ]\n",
      " [290.      26.3     31.2     12.48     4.3056]\n",
      " [340.      26.5     31.1     12.3778   4.6961]\n",
      " [363.      29.      33.5     12.73     4.4555]\n",
      " [430.      29.      34.      12.444    5.134 ]]\n"
     ]
    }
   ],
   "source": [
    "print(fish_input[0:5])"
   ]
  },
  {
   "cell_type": "markdown",
   "metadata": {
    "id": "AulKPBzPjG6k"
   },
   "source": [
    "- 타겟 =종속변수"
   ]
  },
  {
   "cell_type": "code",
   "execution_count": null,
   "metadata": {
    "colab": {
     "base_uri": "https://localhost:8080/"
    },
    "id": "tEAk-kgMi5yl",
    "outputId": "46f1d34e-a2e0-450b-a0f9-3d2804a7d445"
   },
   "outputs": [
    {
     "name": "stdout",
     "output_type": "stream",
     "text": [
      "(159,)\n",
      "['Bream' 'Bream' 'Bream' 'Bream' 'Bream']\n"
     ]
    }
   ],
   "source": [
    "fish_target=fish['Species'].to_numpy()\n",
    "print(fish_target.shape)\n",
    "print(fish_target[:5])"
   ]
  },
  {
   "cell_type": "markdown",
   "metadata": {
    "id": "73q5z8hwjQeD"
   },
   "source": [
    "## 데이터 분리\n",
    "- 훈련 데이터, 테스트 데이터 분리"
   ]
  },
  {
   "cell_type": "code",
   "execution_count": null,
   "metadata": {
    "id": "blrQdNUijVJc"
   },
   "outputs": [],
   "source": [
    "from sklearn.model_selection import train_test_split\n",
    "\n",
    "# 임의 샘플링\n",
    "# 캐글에서\n",
    "# X_train, X_test, y_train, y_test\n",
    "# X_train, X_test\n",
    "train_input, test_input, train_target, test_target = train_test_split(\n",
    "    fish_input, fish_target, random_state=42 # 층화샘플링도 추가해서 해보기->달라지는 결과 확인\n",
    ")"
   ]
  },
  {
   "cell_type": "markdown",
   "metadata": {
    "id": "lpgPdeYJkDBV"
   },
   "source": [
    "## 표준화 전처리\n",
    "- 여기에서도 훈련 세트의 통계 값으로 테스트 세트를 변환해야 한다는 점을 잊지 마세요!!!! 강조!!\n",
    "- 1. 훈련세트와 테스트 세트를 분리하는데\n",
    "- 2. (데이터 가공을 위해) 결측치를 제거하기로 했다.\n",
    "- 3. 결측치는 평균값으로 대체한다고 정했다.\n",
    "- 4. 원본 데이터 평균값을 대치 (X), 훈련 데이터 평균값을 대치 (O)\n",
    "  + 평균값을 대치하는 순간 답지를 들고 시험을 보는 것과 같음\n",
    "  + 모델 훈련을 똑바로 못함, 실전에 대입하면 다 틀림.\n",
    "- 데이터 누수(Data Leakage)\n",
    "  + 훈련데이터 평균값 70을 대치 (O)\n",
    "  + 테스트데이터 평균값 75을 대치 (X)\n",
    "  + 모든 데이터 평균값 72.5를 대치 (X)\n",
    "- 사이킷런에서 이를 설명한 것\n",
    "https://scikit-learn.org/stable/common_pitfalls.html\n",
    "  + pipeline를 사용해라"
   ]
  },
  {
   "cell_type": "markdown",
   "metadata": {
    "id": "T3Rl3iyKH7Dr"
   },
   "source": [
    "- 기준을 맞춰라 --> 데이터 표준화 (표준 점수)\n",
    "- 97~98p 수동으로 mean,std로 표준 점수 계산함."
   ]
  },
  {
   "cell_type": "code",
   "execution_count": null,
   "metadata": {
    "id": "wZNSLvyCkGw7"
   },
   "outputs": [],
   "source": [
    "# StandardScaler : 표준화 시켜줌\n",
    "from sklearn.preprocessing import StandardScaler\n",
    "ss = StandardScaler()\n",
    "\n",
    "\n",
    "# 표준화 구하는 학습: ex)평균을 구함\n",
    "# mean과 std는 여기서 구해진다.\n",
    "ss.fit(train_input)  \n",
    "# ss.fit(test_input) 이러면 절대 안된다.\n",
    "\n",
    "# 훈련 세트와 테스트 세트를 표준화 전처리 : ex)평균을 적용하여 전처리를 함\n",
    "# train_scaled = (train_input - mean) / std 와 동일 과정, 얘는 수동\n",
    "train_scaled = ss.transform(train_input)\n",
    "test_scaled = ss.transform(test_input)"
   ]
  },
  {
   "cell_type": "markdown",
   "metadata": {
    "id": "YZUE9YbgJT-U"
   },
   "source": [
    "## 모형 만들기\n",
    "- K-최근접 이웃"
   ]
  },
  {
   "cell_type": "code",
   "execution_count": null,
   "metadata": {
    "colab": {
     "base_uri": "https://localhost:8080/"
    },
    "id": "VUypNFZUJXS1",
    "outputId": "39a525ce-2406-4a4e-df49-195e79d0d3e2"
   },
   "outputs": [
    {
     "name": "stdout",
     "output_type": "stream",
     "text": [
      "0.8907563025210085\n",
      "0.85\n"
     ]
    }
   ],
   "source": [
    "from sklearn.neighbors import KNeighborsClassifier \n",
    "kn = KNeighborsClassifier(n_neighbors = 3)\n",
    "kn.fit(train_scaled, train_target)\n",
    "\n",
    "print(kn.score(train_scaled, train_target))\n",
    "print(kn.score(test_scaled, test_target))"
   ]
  },
  {
   "cell_type": "markdown",
   "metadata": {
    "id": "WHtzY0U7KDWD"
   },
   "source": [
    "- 타깃값 확인\n",
    "- 알파벳 순으로 정렬"
   ]
  },
  {
   "cell_type": "code",
   "execution_count": null,
   "metadata": {
    "colab": {
     "base_uri": "https://localhost:8080/"
    },
    "id": "oP1QmqewKHD8",
    "outputId": "e580df02-62c1-45cf-fa80-4d5d30dc3f70"
   },
   "outputs": [
    {
     "name": "stdout",
     "output_type": "stream",
     "text": [
      "['Bream' 'Parkki' 'Perch' 'Pike' 'Roach' 'Smelt' 'Whitefish']\n"
     ]
    }
   ],
   "source": [
    "print(kn.classes_)"
   ]
  },
  {
   "cell_type": "markdown",
   "metadata": {
    "id": "1jLi083fKOLO"
   },
   "source": [
    "- 다증분류"
   ]
  },
  {
   "cell_type": "code",
   "execution_count": null,
   "metadata": {
    "colab": {
     "base_uri": "https://localhost:8080/"
    },
    "id": "rPl2vOA6KJec",
    "outputId": "f2ac0846-5ba8-4116-cd0b-b3c1e915824c"
   },
   "outputs": [
    {
     "name": "stdout",
     "output_type": "stream",
     "text": [
      "['Perch' 'Smelt' 'Pike' 'Perch' 'Perch']\n"
     ]
    }
   ],
   "source": [
    "print(kn.predict(test_scaled[:5]))"
   ]
  },
  {
   "cell_type": "markdown",
   "metadata": {
    "id": "CC3hTELCKZEb"
   },
   "source": [
    "- 5개 샘플에 대한 예측은 어떤 확률이냐?"
   ]
  },
  {
   "cell_type": "code",
   "execution_count": null,
   "metadata": {
    "colab": {
     "base_uri": "https://localhost:8080/"
    },
    "id": "lY3bqodlKdND",
    "outputId": "1ae541e7-9629-4f95-848c-814abc4c3145"
   },
   "outputs": [
    {
     "name": "stdout",
     "output_type": "stream",
     "text": [
      "['Bream' 'Parkki' 'Perch' 'Pike' 'Roach' 'Smelt' 'Whitefish']\n",
      "[[0.     0.     1.     0.     0.     0.     0.    ]\n",
      " [0.     0.     0.     0.     0.     1.     0.    ]\n",
      " [0.     0.     0.     1.     0.     0.     0.    ]\n",
      " [0.     0.     0.6667 0.     0.3333 0.     0.    ]\n",
      " [0.     0.     0.6667 0.     0.3333 0.     0.    ]]\n"
     ]
    }
   ],
   "source": [
    "import numpy as np\n",
    "proba = kn.predict_proba(test_scaled[:5])\n",
    "print(kn.classes_)\n",
    "print(np.round(proba, decimals=4))"
   ]
  },
  {
   "cell_type": "markdown",
   "metadata": {
    "id": "4kHDp7vaK8Y0"
   },
   "source": [
    "- 첫번째 클래스 Perch\n",
    "  + 100% 확률로 Perch로 예측\n",
    "- 네번째 클라스 Perch\n",
    "  + 66.7% 확률로 Perch 예측\n",
    "  + 33.3% 확률로 Roach 예측"
   ]
  },
  {
   "cell_type": "markdown",
   "metadata": {
    "id": "Cw3yiEQNMbVk"
   },
   "source": [
    "## 로지스틱 회귀\n",
    "- 회귀식 : y = ax + b\n",
    "  + 아무리 계산을 해도 오차가 줄지 않을 수 있다.\n",
    "- 시그모이드 함수, 로지스틱 함수(피팅한다. 적합시킨다.)\n",
    "  + 피팅을 하면 오차가 줄도록 결과와 회귀식을 변환시켜 식을 결과와 적합시킨다.\n",
    "    - 회귀식에서 양변에 로그를 취함 -> 지수로 변환\n",
    "  + 로지스틱 변환을 하고 나면 y값도 바뀌다 (숫자->확률, 0~1)\n",
    "- $ z = a x (Weight) + b x (Length) + c x (Diagonal) + d x (Height) + e x (Width) +f $"
   ]
  },
  {
   "cell_type": "markdown",
   "metadata": {
    "id": "-uTbFXbKP6Dl"
   },
   "source": [
    "### 로지스틱 회귀로 이진 분류 수행"
   ]
  },
  {
   "cell_type": "code",
   "execution_count": null,
   "metadata": {
    "colab": {
     "base_uri": "https://localhost:8080/"
    },
    "id": "1j6qdgEaP84U",
    "outputId": "f769b1ed-fd89-44f7-f2c4-6e3b3aa6b423"
   },
   "outputs": [
    {
     "name": "stdout",
     "output_type": "stream",
     "text": [
      "['A' 'C']\n"
     ]
    }
   ],
   "source": [
    "char_arr = np.array(['A', 'B', 'C', 'D', 'E'])  # train_scaled\n",
    "# bream_smelt_indexes, 이 중 참인 것 만 프린트 해냄\n",
    "print(char_arr[[True, False, True, False, False]])"
   ]
  },
  {
   "cell_type": "markdown",
   "metadata": {
    "id": "tna7Zy9EQbqM"
   },
   "source": [
    "- 도미와 빙어의 행만 골라냄"
   ]
  },
  {
   "cell_type": "code",
   "execution_count": null,
   "metadata": {
    "colab": {
     "base_uri": "https://localhost:8080/"
    },
    "id": "moTD1LlwQeCc",
    "outputId": "0242526b-58c6-4074-f82b-4f2931230cd9"
   },
   "outputs": [
    {
     "name": "stdout",
     "output_type": "stream",
     "text": [
      "[ True False  True False False False False  True False False False  True\n",
      " False False False  True  True False False  True False  True False False\n",
      " False  True False False  True False False False False  True False False\n",
      "  True  True False False False False False  True False False False False\n",
      " False  True False  True False False  True False False False  True False\n",
      " False False False False False  True False  True False False False False\n",
      " False False False False False  True False  True False False  True  True\n",
      " False False False  True False False False False False  True False False\n",
      " False  True False  True False False  True  True False False False False\n",
      " False False False False  True  True False False  True False False]\n"
     ]
    },
    {
     "data": {
      "text/plain": [
       "((119, 5), (33, 5))"
      ]
     },
     "execution_count": 14,
     "metadata": {},
     "output_type": "execute_result"
    }
   ],
   "source": [
    "# True False 리스트 만들기\n",
    "bream_smelt_indexes = (train_target == 'Bream') | (train_target == 'Smelt')\n",
    "print(bream_smelt_indexes)\n",
    "\n",
    "# 참인 값만 들어오게 한다.\n",
    "train_bream_smelt = train_scaled[bream_smelt_indexes]\n",
    "target_bream_smelt = train_target[bream_smelt_indexes]\n",
    "\n",
    "train_scaled.shape, train_bream_smelt.shape"
   ]
  },
  {
   "cell_type": "markdown",
   "metadata": {
    "id": "9UtUjVT4U970"
   },
   "source": [
    "## 모델 만들기"
   ]
  },
  {
   "cell_type": "code",
   "execution_count": null,
   "metadata": {
    "colab": {
     "base_uri": "https://localhost:8080/"
    },
    "id": "I4EgkAzWVATW",
    "outputId": "8b0fdc46-5bef-4317-e4c1-960ae8ece657"
   },
   "outputs": [
    {
     "data": {
      "text/plain": [
       "LogisticRegression()"
      ]
     },
     "execution_count": 15,
     "metadata": {},
     "output_type": "execute_result"
    }
   ],
   "source": [
    "from sklearn.linear_model import LogisticRegression\n",
    "\n",
    "lr = LogisticRegression()\n",
    "lr.fit(train_bream_smelt, target_bream_smelt)"
   ]
  },
  {
   "cell_type": "code",
   "execution_count": null,
   "metadata": {
    "colab": {
     "base_uri": "https://localhost:8080/"
    },
    "id": "TZhYGshXVIGV",
    "outputId": "48cdea6d-e088-4db5-e34c-c2338f84bc72"
   },
   "outputs": [
    {
     "name": "stdout",
     "output_type": "stream",
     "text": [
      "['Bream' 'Smelt' 'Bream' 'Bream' 'Bream']\n"
     ]
    }
   ],
   "source": [
    "# 클래스를 예측\n",
    "print(lr.predict(train_bream_smelt[:5]))"
   ]
  },
  {
   "cell_type": "markdown",
   "metadata": {
    "id": "H7JOmgTFVnDo"
   },
   "source": [
    "- 클래스 예측 보다 확률값이 더 궁금하다.\n",
    "- 확률값 구하기"
   ]
  },
  {
   "cell_type": "code",
   "execution_count": null,
   "metadata": {
    "colab": {
     "base_uri": "https://localhost:8080/"
    },
    "id": "Pcsy-Np3VSLE",
    "outputId": "9eeccafa-56db-4092-913c-1a82294770bb"
   },
   "outputs": [
    {
     "name": "stdout",
     "output_type": "stream",
     "text": [
      "[[0.99759855 0.00240145]\n",
      " [0.02735183 0.97264817]\n",
      " [0.99486072 0.00513928]\n",
      " [0.98584202 0.01415798]\n",
      " [0.99767269 0.00232731]]\n"
     ]
    }
   ],
   "source": [
    "print(lr.predict_proba(train_bream_smelt[:5]))"
   ]
  },
  {
   "cell_type": "code",
   "execution_count": null,
   "metadata": {
    "colab": {
     "base_uri": "https://localhost:8080/"
    },
    "id": "i1_vhCoAVTK-",
    "outputId": "e5c3ec82-06a7-4801-9f52-97a057e5d976"
   },
   "outputs": [
    {
     "name": "stdout",
     "output_type": "stream",
     "text": [
      "['Bream' 'Smelt']\n"
     ]
    }
   ],
   "source": [
    "# 클래스 속성 확인, 왼쪽 Bream, 오른쪽 Smelt\n",
    "print(lr.classes_)"
   ]
  },
  {
   "cell_type": "markdown",
   "metadata": {
    "id": "ni-j9YeLWTmV"
   },
   "source": [
    "- 분류 기준 : threshold 임계값을 무엇을 설정할 것이냐? (왜 0.5를 기준으로 두나?)\n",
    "- 도미 vs 빙어\n",
    "  - [0.51, 0.49]\n",
    "  - [0.70, 0.30]\n",
    "  - [0.90, 0.10]\n",
    "  - 0.51 확률 도미와 0.90 확률 도미는 어감이 확실히 다르다"
   ]
  },
  {
   "cell_type": "markdown",
   "metadata": {
    "id": "FuHa2tgyW8h1"
   },
   "source": [
    "- 각각 독립 변수에 대한 계수와 절편"
   ]
  },
  {
   "cell_type": "code",
   "execution_count": null,
   "metadata": {
    "colab": {
     "base_uri": "https://localhost:8080/"
    },
    "id": "YpqrRKLRXBt8",
    "outputId": "368cf049-3e20-4d02-94f7-81cd7e8ada70"
   },
   "outputs": [
    {
     "name": "stdout",
     "output_type": "stream",
     "text": [
      "[[-0.4037798  -0.57620209 -0.66280298 -1.01290277 -0.73168947]] [-2.16155132]\n"
     ]
    }
   ],
   "source": [
    "# 5개 값은 5개 샘플의 로지스틱 화귀 모형의 값\n",
    "print(lr.coef_, lr.intercept_)"
   ]
  },
  {
   "cell_type": "code",
   "execution_count": null,
   "metadata": {
    "colab": {
     "base_uri": "https://localhost:8080/"
    },
    "id": "F5IQcjRXVWDc",
    "outputId": "175d31e1-6e1a-461c-fa95-e5b26958706f"
   },
   "outputs": [
    {
     "name": "stdout",
     "output_type": "stream",
     "text": [
      "[-6.02927744  3.57123907 -5.26568906 -4.24321775 -6.0607117 ]\n"
     ]
    }
   ],
   "source": [
    "# z 값 구하기 / 우리가 원한 것은 확률 값\n",
    "decisions = lr.decision_function(train_bream_smelt[:5])\n",
    "print(decisions)"
   ]
  },
  {
   "cell_type": "markdown",
   "metadata": {
    "id": "wQ1JLrqqXvz8"
   },
   "source": [
    "- z값을 확률값으로 변환"
   ]
  },
  {
   "cell_type": "code",
   "execution_count": null,
   "metadata": {
    "colab": {
     "base_uri": "https://localhost:8080/"
    },
    "id": "1snIPHxGVXPy",
    "outputId": "1a8e5202-147d-49b7-82b1-0fb7f8187d78"
   },
   "outputs": [
    {
     "name": "stdout",
     "output_type": "stream",
     "text": [
      "[0.00240145 0.97264817 0.00513928 0.01415798 0.00232731]\n"
     ]
    }
   ],
   "source": [
    "from scipy.special import expit\n",
    "\n",
    "print(expit(decisions))"
   ]
  },
  {
   "cell_type": "markdown",
   "metadata": {
    "id": "NHSPCe-aVYfc"
   },
   "source": [
    "## 로지스틱 회귀로 다중 분류 수행하기\n",
    "- 이전 분류의 확장판"
   ]
  },
  {
   "cell_type": "code",
   "execution_count": null,
   "metadata": {
    "colab": {
     "base_uri": "https://localhost:8080/"
    },
    "id": "SoHvS-2VVbSV",
    "outputId": "36fa2d35-e8c1-42fc-a836-0f07b59ef5d4"
   },
   "outputs": [
    {
     "name": "stdout",
     "output_type": "stream",
     "text": [
      "0.9327731092436975\n",
      "0.925\n"
     ]
    }
   ],
   "source": [
    "\n",
    "# 하이퍼 파라미터 세팅\n",
    "# 모형을 튜닝\n",
    "# 잘 모르면 순정을 쓰세요\n",
    "# 모형의 결과의 과대적합 또 과소적학을 방지하기 위한 것\n",
    "# 사용해도 되나 반복문으로 여러 튜닝 결과를 비교해서 가장 좋은 값을 사용해야된다.\n",
    "\n",
    "lr = LogisticRegression(C=20, max_iter=1000)\n",
    "lr.fit(train_scaled, train_target)\n",
    "\n",
    "print(lr.score(train_scaled, train_target))\n",
    "print(lr.score(test_scaled, test_target))"
   ]
  },
  {
   "cell_type": "code",
   "execution_count": null,
   "metadata": {
    "colab": {
     "base_uri": "https://localhost:8080/"
    },
    "id": "AzxvA1NaVcZ0",
    "outputId": "6f2a496b-9dc8-468b-a089-fda5624d286a"
   },
   "outputs": [
    {
     "name": "stdout",
     "output_type": "stream",
     "text": [
      "['Perch' 'Smelt' 'Pike' 'Roach' 'Perch']\n"
     ]
    }
   ],
   "source": [
    "print(lr.predict(test_scaled[:5]))"
   ]
  },
  {
   "cell_type": "code",
   "execution_count": null,
   "metadata": {
    "colab": {
     "base_uri": "https://localhost:8080/"
    },
    "id": "DEZN3toaVdaE",
    "outputId": "236f8e67-b83e-4187-83d8-35413cbeb808"
   },
   "outputs": [
    {
     "name": "stdout",
     "output_type": "stream",
     "text": [
      "[[0.    0.014 0.841 0.    0.136 0.007 0.003]\n",
      " [0.    0.003 0.044 0.    0.007 0.946 0.   ]\n",
      " [0.    0.    0.034 0.935 0.015 0.016 0.   ]\n",
      " [0.011 0.034 0.306 0.007 0.567 0.    0.076]\n",
      " [0.    0.    0.904 0.002 0.089 0.002 0.001]]\n"
     ]
    }
   ],
   "source": [
    "\n",
    "# 확률값이 중요\n",
    "proba = lr.predict_proba(test_scaled[:5])\n",
    "print(np.round(proba, decimals=3))"
   ]
  },
  {
   "cell_type": "code",
   "execution_count": null,
   "metadata": {
    "colab": {
     "base_uri": "https://localhost:8080/"
    },
    "id": "X4auv7GAVeZl",
    "outputId": "9b1c3471-2684-4a60-b220-e1a3aa771a58"
   },
   "outputs": [
    {
     "name": "stdout",
     "output_type": "stream",
     "text": [
      "['Bream' 'Parkki' 'Perch' 'Pike' 'Roach' 'Smelt' 'Whitefish']\n"
     ]
    }
   ],
   "source": [
    "# 각각의 클라스가 궁금할 때\n",
    "print(lr.classes_)"
   ]
  },
  {
   "cell_type": "markdown",
   "metadata": {
    "id": "mYcoZv1xdhjo"
   },
   "source": [
    "- 다중 분류일 경우 선형 방정식은 어떤 모습일까?\n",
    "- 분류 7개, 컬럼 값 5개에 관한 선형~"
   ]
  },
  {
   "cell_type": "code",
   "execution_count": null,
   "metadata": {
    "colab": {
     "base_uri": "https://localhost:8080/"
    },
    "id": "PyCospbpVfVV",
    "outputId": "56b4695d-0c81-416b-b3e9-b1c0f8ab58cc"
   },
   "outputs": [
    {
     "name": "stdout",
     "output_type": "stream",
     "text": [
      "(7, 5) (7,)\n"
     ]
    }
   ],
   "source": [
    "print(lr.coef_.shape, lr.intercept_.shape)"
   ]
  },
  {
   "cell_type": "code",
   "execution_count": null,
   "metadata": {
    "colab": {
     "base_uri": "https://localhost:8080/"
    },
    "id": "7h6qaWudVgVE",
    "outputId": "2d069f4c-303d-48b2-97de-35d82ffa3fdc"
   },
   "outputs": [
    {
     "name": "stdout",
     "output_type": "stream",
     "text": [
      "[[ -6.5    1.03   5.16  -2.73   3.34   0.33  -0.63]\n",
      " [-10.86   1.93   4.77  -2.4    2.98   7.84  -4.26]\n",
      " [ -4.34  -6.23   3.17   6.49   2.36   2.42  -3.87]\n",
      " [ -0.68   0.45   2.65  -1.19   3.26  -5.75   1.26]\n",
      " [ -6.4   -1.99   5.82  -0.11   3.5   -0.11  -0.71]]\n"
     ]
    }
   ],
   "source": [
    "decision = lr.decision_function(test_scaled[:5])\n",
    "print(np.round(decision, decimals=2))"
   ]
  },
  {
   "cell_type": "code",
   "execution_count": null,
   "metadata": {
    "colab": {
     "base_uri": "https://localhost:8080/"
    },
    "id": "0nXPSFx4Vhos",
    "outputId": "76e0696b-3a4d-4898-fedc-0ab4a4fd0fe8"
   },
   "outputs": [
    {
     "name": "stdout",
     "output_type": "stream",
     "text": [
      "[[0.    0.014 0.841 0.    0.136 0.007 0.003]\n",
      " [0.    0.003 0.044 0.    0.007 0.946 0.   ]\n",
      " [0.    0.    0.034 0.935 0.015 0.016 0.   ]\n",
      " [0.011 0.034 0.306 0.007 0.567 0.    0.076]\n",
      " [0.    0.    0.904 0.002 0.089 0.002 0.001]]\n"
     ]
    }
   ],
   "source": [
    "from scipy.special import softmax\n",
    "\n",
    "proba = softmax(decision, axis=1)\n",
    "print(np.round(proba, decimals=3))"
   ]
  },
  {
   "cell_type": "markdown",
   "metadata": {
    "id": "VmCZrxbEeZf-"
   },
   "source": [
    "로지스틱 회귀부터 다시 보기. 헷갈림.\n",
    "\n",
    "- 결론이해 위주\n",
    "- 모형을 만들었어\n",
    "- 모형이 쓸만한지 아닌지 판단하는 평가 지표."
   ]
  },
  {
   "cell_type": "markdown",
   "metadata": {
    "id": "E8P-5vO6gj4i"
   },
   "source": [
    "## 평가지표 (교재X)\n",
    "- 회귀 평가지표\n",
    "- 결정계수 (121p)\n",
    "  + (타깃-예측)^2의 합 /(타깃-평균)^2합\n",
    "- 이 외에도 여러가지 지표가 있다\n",
    "- 그 중 MAE, MSE, RMSE\n",
    "    + (실제-예측) = 오차\n",
    "    + MAE: 오차의 절댓갃의 평균\n",
    "    + MSE: 오차 제곱의 평균\n",
    "    + RMSE: 가장 대표적,MSE에 제곱근을 취한 값(루트 씌워줌)\n",
    "\n",
    "- 여기서 말하는 좋은 모델이란\n",
    "  + 결정계수 : 1에 수렴하면 좋은 모델\n",
    "  + MAE,MSE,RMSE: 0에 수렴하면 좋은 모델"
   ]
  },
  {
   "cell_type": "code",
   "execution_count": null,
   "metadata": {
    "colab": {
     "base_uri": "https://localhost:8080/"
    },
    "id": "Nykn1U0Ej2l9",
    "outputId": "cc9d007d-96de-46ee-fc36-26653ce9a677"
   },
   "outputs": [
    {
     "name": "stdout",
     "output_type": "stream",
     "text": [
      "0.5384615384615384\n",
      "0.6923076923076923\n",
      "0.6923076923076923\n",
      "0.8320502943378437\n",
      "0.8617021276595744\n"
     ]
    }
   ],
   "source": [
    "import numpy as np \n",
    "from sklearn.metrics import mean_absolute_error, mean_squared_error, r2_score \n",
    "\n",
    "true = np.array([1, 2, 3, 2, 3, 5, 4, 6, 5, 6, 7, 8, 8]) # 실제값\n",
    "preds = np.array([1, 1, 2, 2, 3, 4, 4, 5, 5, 7, 7, 6, 8]) # 예측값\n",
    "\n",
    "# 절대값 오차의 평균\n",
    "mae = mean_absolute_error(true,preds)\n",
    "print(mae)\n",
    "\n",
    "# 제곱 오차의 평균\n",
    "mse = mean_squared_error(true,preds)\n",
    "print(mse)\n",
    "\n",
    "# 제곱 오차의 평균\n",
    "mse = mean_squared_error(true, preds)\n",
    "print(mse)\n",
    "\n",
    "# mse 제곱근\n",
    "rmse = np.sqrt(mse)\n",
    "print(rmse)\n",
    "\n",
    "# 결정계수\n",
    "r2 = r2_score(true, preds)\n",
    "print(r2)\n",
    "\n",
    "# 대표적인 방법. 회귀 평가지표"
   ]
  },
  {
   "cell_type": "markdown",
   "metadata": {
    "id": "Yvil-3Wxlh8_"
   },
   "source": [
    "## 분류 평가지표\n",
    "- 오차 행렬\n",
    "- 실제 값\n",
    "  + [빙어, 도미, 도미, 빙어, 도미]\n",
    "- 예측 값\n",
    "  + [빙어, 빙어, 도미, 빙어, 빙어]\n",
    "\n",
    "- TP, TN, FP, FN\n",
    "  + TP = 5, TN = 5, FP = 3, FN = 7\n",
    "  + 정확도 (스팸메일): (TP + TN) / (TP + TN + FP + FN) \n",
    "  + 정밀도(Precision) : 양성이라고 예측한 값 (TP + FP) 중 실제 양성인 값의 비율\n",
    "  + 재현율 (의료, 그만큼 보수적): 실제 양성 값 중 양성으로 예측한 값(TP)의 비율\n",
    "\n",
    "- 코로나 검사\n",
    "  + 양성(1) : 음성(99)\n",
    "  + 머신러닝 모형 : 98% / 정밀도 99\n",
    "  + 인간 음성진단 : 99% / 정밀도 95\n",
    "- 검사자가 실제는 양성, 진단은 음성으로 내림\n",
    "\n",
    "  + 로그손실\n",
    "  + ROC Curve (= AUC) (중요)"
   ]
  },
  {
   "cell_type": "code",
   "execution_count": null,
   "metadata": {
    "colab": {
     "base_uri": "https://localhost:8080/"
    },
    "id": "Q7cYKPBGklRh",
    "outputId": "55dc118a-2d6f-4ba4-816b-3efa24e6df60"
   },
   "outputs": [
    {
     "data": {
      "text/plain": [
       "array([[2, 1],\n",
       "       [2, 0]])"
      ]
     },
     "execution_count": 30,
     "metadata": {},
     "output_type": "execute_result"
    }
   ],
   "source": [
    "from sklearn.metrics import confusion_matrix\n",
    "\n",
    "true = [0, 1, 1, 0, 0]\n",
    "preds = [1, 0, 0, 0, 0]\n",
    "\n",
    "confusion_matrix(true, preds)"
   ]
  },
  {
   "cell_type": "markdown",
   "metadata": {
    "id": "YPrw13yTfIe_"
   },
   "source": [
    "# Chapter 04-2 확률적 경사 하강법\n",
    "- 점진적 학습 (step, 보폭)\n",
    "  + 보폭이 빠르면 내려오는 시간은 빠르나 주변을 제대로 보기 힘들어 정확성이 떨어진다\n",
    "  + 그러나 보폭을 좁게 내려오면 정확성은 올라가나 시간이 오래 걸린다.\n",
    "- 학습률\n",
    "- XGBoost, LightGBM, 딥러닝(이미지 분류, 자연어 처리, 옵티마이저_)"
   ]
  },
  {
   "cell_type": "markdown",
   "metadata": {
    "id": "PYi9JzKQoxxi"
   },
   "source": [
    "### 샘플\n",
    "- 배치: 몇개로 나눈다\n",
    "- 에포크: 한 바뀌 돌았다.\n",
    "  + 한 번 끝날 때 마다 평가지표가 나온다.\n",
    "  + 초기 평가지표는 성능이 낮고 시간이 지날 수록 성능이 높아진다. \n",
    "- 신경망 (이미지 데이터, 자연어 데이터)\n",
    "- 자율주행 하루 데이터 1TB -> 학습\n",
    "- 한꺼번에 모든 데이터를 학습하기 어려움\n",
    "  + 샘플링, 배치, 에포크, 오차(=손실=loss)가 가장 작은 지점을 찾아야 함.\n",
    "  + 결론적으로 확률적 경사 하강법이 필요하다.\n",
    "- 손실함수: 시간을 효율적이게 쓰면서, 손실은 적은."
   ]
  },
  {
   "cell_type": "markdown",
   "metadata": {
    "id": "rXqJSEC9wzPi"
   },
   "source": [
    "### 손실함수\n",
    "- 로지스틱 손실 함수"
   ]
  },
  {
   "cell_type": "code",
   "execution_count": null,
   "metadata": {
    "colab": {
     "base_uri": "https://localhost:8080/"
    },
    "id": "lDfHyI59xjmq",
    "outputId": "f6186109-1899-4bbb-f3a5-27bc3f92b1e4"
   },
   "outputs": [
    {
     "name": "stdout",
     "output_type": "stream",
     "text": [
      "<class 'pandas.core.frame.DataFrame'>\n",
      "RangeIndex: 159 entries, 0 to 158\n",
      "Data columns (total 6 columns):\n",
      " #   Column    Non-Null Count  Dtype  \n",
      "---  ------    --------------  -----  \n",
      " 0   Species   159 non-null    object \n",
      " 1   Weight    159 non-null    float64\n",
      " 2   Length    159 non-null    float64\n",
      " 3   Diagonal  159 non-null    float64\n",
      " 4   Height    159 non-null    float64\n",
      " 5   Width     159 non-null    float64\n",
      "dtypes: float64(5), object(1)\n",
      "memory usage: 7.6+ KB\n"
     ]
    }
   ],
   "source": [
    "import pandas as pd\n",
    "fish = pd.read_csv(\"http://bit.ly/fish_csv_data\")\n",
    "fish.info()"
   ]
  },
  {
   "cell_type": "markdown",
   "metadata": {
    "id": "3DyRSs8PyApK"
   },
   "source": [
    "- 입력 데이터와 타깃 데이터 분리"
   ]
  },
  {
   "cell_type": "code",
   "execution_count": null,
   "metadata": {
    "colab": {
     "base_uri": "https://localhost:8080/"
    },
    "id": "XaRn5GtOyEy6",
    "outputId": "3ed55969-39d5-4c2b-8bb7-4d73bccc7dad"
   },
   "outputs": [
    {
     "data": {
      "text/plain": [
       "((159, 5), (159,))"
      ]
     },
     "execution_count": 34,
     "metadata": {},
     "output_type": "execute_result"
    }
   ],
   "source": [
    "fish_input = fish[['Weight', 'Length', 'Diagonal', 'Height', 'Width']].to_numpy()\n",
    "fish_target = fish['Species'].to_numpy()\n",
    "\n",
    "fish_input.shape, fish_target.shape"
   ]
  },
  {
   "cell_type": "markdown",
   "metadata": {
    "id": "V5ZejvF2zDuK"
   },
   "source": [
    "- 훈련 세트와 테스트 세트 분리"
   ]
  },
  {
   "cell_type": "code",
   "execution_count": null,
   "metadata": {
    "id": "nc_DYHGvyimq"
   },
   "outputs": [],
   "source": [
    "from sklearn.model_selection import train_test_split\n",
    "train_input, test_input, train_target, test_target = train_test_split(\n",
    "    fish_input, fish_target, random_state=42 \n",
    ")"
   ]
  },
  {
   "cell_type": "markdown",
   "metadata": {
    "id": "4HSoAmMhzH5i"
   },
   "source": [
    "- 훈련 세트와 테스트 세트의 특성 표준화\n",
    "  + 무게, 길이, 대각선 길이, 높이, 너비\n",
    "- 표준화 처리 진행"
   ]
  },
  {
   "cell_type": "code",
   "execution_count": null,
   "metadata": {
    "colab": {
     "base_uri": "https://localhost:8080/"
    },
    "id": "oAEMvC6fyhQB",
    "outputId": "4c147e86-4c70-46af-97a2-722bea5ad360"
   },
   "outputs": [
    {
     "data": {
      "text/plain": [
       "array([[ 0.91965782,  0.60943175,  0.81041221,  1.85194896,  1.00075672],\n",
       "       [ 0.30041219,  1.54653445,  1.45316551, -0.46981663,  0.27291745],\n",
       "       [-1.0858536 , -1.68646987, -1.70848587, -1.70159849, -2.0044758 ],\n",
       "       [-0.79734143, -0.60880176, -0.67486907, -0.82480589, -0.27631471],\n",
       "       [-0.71289885, -0.73062511, -0.70092664, -0.0802298 , -0.7033869 ]])"
      ]
     },
     "execution_count": 37,
     "metadata": {},
     "output_type": "execute_result"
    }
   ],
   "source": [
    "from sklearn.preprocessing import StandardScaler\n",
    "ss= StandardScaler()\n",
    "ss.fit(train_input)\n",
    "train_scaled = ss.transform(train_input)\n",
    "test_scaled = ss.transform(test_input)\n",
    "\n",
    "# train_scaled[:5]"
   ]
  },
  {
   "cell_type": "markdown",
   "metadata": {
    "id": "DLXdaSdOzrja"
   },
   "source": [
    "## 모델링\n",
    "- 확률적 경사 하강법"
   ]
  },
  {
   "cell_type": "code",
   "execution_count": null,
   "metadata": {
    "colab": {
     "base_uri": "https://localhost:8080/"
    },
    "id": "rZao6Az7zumS",
    "outputId": "4572470c-5304-4cd9-8530-979265bdfcf3"
   },
   "outputs": [
    {
     "name": "stdout",
     "output_type": "stream",
     "text": [
      "0.773109243697479\n",
      "0.775\n"
     ]
    },
    {
     "name": "stderr",
     "output_type": "stream",
     "text": [
      "/usr/local/lib/python3.7/dist-packages/sklearn/linear_model/_stochastic_gradient.py:700: ConvergenceWarning: Maximum number of iteration reached before convergence. Consider increasing max_iter to improve the fit.\n",
      "  ConvergenceWarning,\n"
     ]
    }
   ],
   "source": [
    "# 시그모이드 로지스틱 손실 함수\n",
    "from sklearn.linear_model import SGDClassifier\n",
    "sc = SGDClassifier(loss = 'log', max_iter = 10, random_state=42)\n",
    "\n",
    "sc.fit(train_scaled, train_target)\n",
    "print(sc.score(train_scaled, train_target))\n",
    "print(sc.score(test_scaled, test_target))\n",
    "\n",
    "# 결과 해석\n",
    "# /usr/local/lib/python3.7/dist-packages/sklearn/linear_model/_stochastic_gradient.py:700: ConvergenceWarning: Maximum number of iteration reached before convergence. Consider increasing max_iter to improve the fit.ConvergenceWarning,\n",
    "# 더 개선 할 것이 있는데 에포크 숫자가 10만에 끊겨버림, 학습이 덜됐다."
   ]
  },
  {
   "cell_type": "markdown",
   "metadata": {
    "id": "_hgD6Q751S0l"
   },
   "source": [
    "partial_fit()메서드 사용하면 추가 학습."
   ]
  },
  {
   "cell_type": "code",
   "execution_count": null,
   "metadata": {
    "colab": {
     "base_uri": "https://localhost:8080/"
    },
    "id": "tFVP-Hgt1X3i",
    "outputId": "4c3df258-d73f-4c12-8e39-eb3258811f6e"
   },
   "outputs": [
    {
     "name": "stdout",
     "output_type": "stream",
     "text": [
      "0.8487394957983193\n",
      "0.9\n"
     ]
    }
   ],
   "source": [
    "sc.partial_fit(train_scaled, train_target)\n",
    "print(sc.score(train_scaled, train_target))\n",
    "print(sc.score(test_scaled, test_target))"
   ]
  },
  {
   "cell_type": "markdown",
   "metadata": {
    "id": "SMlykc3b1vWz"
   },
   "source": [
    "## 에포그와 과대/과소 적합\n",
    "- 에포크 숫자가 적으면 --> 덜 학습\n",
    "- 에포크 숫자가 과도하게 높으면 --> 산을 헤멤.\n",
    "- 끊는 시점을 정하는게 관건.\n",
    "- eatly_stopping (최근 나온 알고리즘은 대부분 이런 기능이 있다.)\n",
    "  + 에포크 숫자를 1000 지정, 손실 10, 9, 8, ..3(이하로 안내려감)\n",
    "  + 3에 도달한 시점이 150\n",
    "  + 그럼 강제로 끊어줌."
   ]
  },
  {
   "cell_type": "code",
   "execution_count": null,
   "metadata": {
    "id": "57wyO8AH39zl"
   },
   "outputs": [],
   "source": [
    "import numpy as np\n",
    "sc = SGDClassifier(loss ='log', random_state = 42)\n",
    "train_score = []\n",
    "test_score = []\n",
    "\n",
    "classes = np.unique(train_target)\n",
    "\n",
    "# 300번 에포크 훈련을 반복\n",
    "# 훈련 할 때마다, train_score, test_score 추가를 한다.\n",
    "\n",
    "for _ in range(0, 300):\n",
    "  sc.partial_fit(train_scaled, train_target, classes = classes)\n",
    "  train_score.append(sc.score(train_scaled, train_target))\n",
    "  test_score.append(sc.score(test_scaled, test_target)) "
   ]
  },
  {
   "cell_type": "markdown",
   "metadata": {
    "id": "AvFH035c47pD"
   },
   "source": [
    "- 시각화"
   ]
  },
  {
   "cell_type": "code",
   "execution_count": null,
   "metadata": {
    "colab": {
     "base_uri": "https://localhost:8080/",
     "height": 265
    },
    "id": "Q3EFx9Fv4-IK",
    "outputId": "0d076005-0cb3-48c5-ba56-7ba30343b813"
   },
   "outputs": [
    {
     "data": {
      "image/png": "[encoded data removed]",
      "text/plain": [
       "<Figure size 432x288 with 1 Axes>"
      ]
     },
     "metadata": {
      "needs_background": "light"
     },
     "output_type": "display_data"
    }
   ],
   "source": [
    "import matplotlib.pyplot as plt \n",
    "plt.plot(train_score)\n",
    "plt.plot(test_score)\n",
    "plt.legend([\"train\", \"test\"])\n",
    "plt.show()\n",
    "\n",
    "# 결과 해석\n",
    "# 노란색이 파란색 그래프보다 위에 있음 -> 과소 적합\n",
    "# 노란색이 파란색 그래프 간격이 가장 좁음 -> 적당한 모델\n",
    "# 노란색이 파란색 그래프 간격이 멀어짐 -> 과대 적합 "
   ]
  },
  {
   "cell_type": "markdown",
   "metadata": {
    "id": "JrtgngOp0Jha"
   },
   "source": [
    "## XGBoost, LightGBM 코드\n",
    "- train-loss, train-accuary, test-loss, test-accu"
   ]
  }
 ],
 "metadata": {
  "colab": {
   "collapsed_sections": [],
   "name": "Chapter04.ipynb",
   "provenance": [],
   "toc_visible": true
  },
  "kernelspec": {
   "display_name": "Python 3 (ipykernel)",
   "language": "python",
   "name": "python3"
  },
  "language_info": {
   "codemirror_mode": {
    "name": "ipython",
    "version": 3
   },
   "file_extension": ".py",
   "mimetype": "text/x-python",
   "name": "python",
   "nbconvert_exporter": "python",
   "pygments_lexer": "ipython3",
   "version": "3.9.12"
  }
 },
 "nbformat": 4,
 "nbformat_minor": 1
}
