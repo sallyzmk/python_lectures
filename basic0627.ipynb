{
  "nbformat": 4,
  "nbformat_minor": 0,
  "metadata": {
    "colab": {
      "name": "basic0627.ipynb",
      "provenance": [],
      "toc_visible": true,
      "authorship_tag": "ABX9TyOLeP+ujhVAY5rLIc4NsCeh",
      "include_colab_link": true
    },
    "kernelspec": {
      "name": "python3",
      "display_name": "Python 3"
    },
    "language_info": {
      "name": "python"
    },
    "accelerator": "GPU",
    "gpuClass": "standard"
  },
  "cells": [
    {
      "cell_type": "markdown",
      "metadata": {
        "id": "view-in-github",
        "colab_type": "text"
      },
      "source": [
        "<a href=\"https://colab.research.google.com/github/sallyzmk/python_lectures/blob/main/basic0627.ipynb\" target=\"_parent\"><img src=\"https://colab.research.google.com/assets/colab-badge.svg\" alt=\"Open In Colab\"/></a>"
      ]
    },
    {
      "cell_type": "markdown",
      "source": [
        "## Python 입문\n",
        "-파이썬 입문\n"
      ],
      "metadata": {
        "id": "rngPEuTvj4pf"
      }
    },
    {
      "cell_type": "markdown",
      "source": [
        "### 1단원 소제목 1\n"
      ],
      "metadata": {
        "id": "odrKRlHpkHrv"
      }
    },
    {
      "cell_type": "code",
      "execution_count": 1,
      "metadata": {
        "colab": {
          "base_uri": "https://localhost:8080/"
        },
        "id": "9RENMV81jtW5",
        "outputId": "5d54a30c-914f-483e-fdaf-b3eba8fb43b5"
      },
      "outputs": [
        {
          "output_type": "stream",
          "name": "stdout",
          "text": [
            "Hello World\n"
          ]
        }
      ],
      "source": [
        "print(\"Hello World\")"
      ]
    },
    {
      "cell_type": "markdown",
      "source": [
        "## 제목 2\n",
        "-설명\n"
      ],
      "metadata": {
        "id": "WXp_Fbzekd5m"
      }
    },
    {
      "cell_type": "markdown",
      "source": [
        "### 1단원 소제목1\n",
        "-오쪼라구"
      ],
      "metadata": {
        "id": "KGY05GJMki3O"
      }
    },
    {
      "cell_type": "code",
      "source": [
        "print(1+1)"
      ],
      "metadata": {
        "colab": {
          "base_uri": "https://localhost:8080/"
        },
        "id": "TnLOoFnwkdHH",
        "outputId": "6244a22a-8ab9-4f38-8229-7cfc7d4e4c60"
      },
      "execution_count": 2,
      "outputs": [
        {
          "output_type": "stream",
          "name": "stdout",
          "text": [
            "2\n"
          ]
        }
      ]
    }
  ]
}